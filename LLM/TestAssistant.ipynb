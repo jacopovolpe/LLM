{
 "cells": [
  {
   "cell_type": "code",
   "execution_count": null,
   "id": "6b3d3c7b",
   "metadata": {},
   "outputs": [],
   "source": [
    "from Assistant import Assistant\n",
    "assistant  = Assistant(faiss_index=\"data/faiss_index/ALL__11Marzo2025__bge-m3\", log_file=\"data/logs/assistant.log\")"
   ]
  },
  {
   "cell_type": "code",
   "execution_count": null,
   "id": "eff795dd",
   "metadata": {},
   "outputs": [],
   "source": [
    "print(assistant.ask(\"talk me about transformers\"))"
   ]
  },
  {
   "cell_type": "code",
   "execution_count": null,
   "id": "79cf6842",
   "metadata": {},
   "outputs": [],
   "source": [
    "print(assistant.ask(\"when does Transformers 2 film come out?\"))"
   ]
  },
  {
   "cell_type": "code",
   "execution_count": null,
   "id": "6705581b",
   "metadata": {},
   "outputs": [],
   "source": []
  },
  {
   "cell_type": "code",
   "execution_count": null,
   "id": "b5d182db",
   "metadata": {},
   "outputs": [],
   "source": [
    "print(assistant.ask(\"talk me about the temperature of a place\"))"
   ]
  },
  {
   "cell_type": "code",
   "execution_count": null,
   "id": "4c53b550",
   "metadata": {},
   "outputs": [],
   "source": [
    "print(assistant.ask(\"what is the temperature?\", debug=True))"
   ]
  }
 ],
 "metadata": {
  "kernelspec": {
   "display_name": "Python 3",
   "language": "python",
   "name": "python3"
  },
  "language_info": {
   "codemirror_mode": {
    "name": "ipython",
    "version": 3
   },
   "file_extension": ".py",
   "mimetype": "text/x-python",
   "name": "python",
   "nbconvert_exporter": "python",
   "pygments_lexer": "ipython3",
   "version": "3.9.13"
  }
 },
 "nbformat": 4,
 "nbformat_minor": 5
}
